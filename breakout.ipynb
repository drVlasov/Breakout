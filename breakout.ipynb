{
  "nbformat": 4,
  "nbformat_minor": 0,
  "metadata": {
    "colab": {
      "name": "breakout.ipynb",
      "provenance": [],
      "machine_shape": "hm",
      "collapsed_sections": []
    },
    "kernelspec": {
      "name": "python3",
      "display_name": "Python 3"
    },
    "language_info": {
      "name": "python"
    },
    "accelerator": "GPU"
  },
  "cells": [
    {
      "cell_type": "markdown",
      "source": [
        "1. Installing and importing dependecies"
      ],
      "metadata": {
        "id": "6IC0ghfaPAvr"
      }
    },
    {
      "cell_type": "code",
      "source": [
        "!pip install stable-baselines[mpi]==2.8.0\n",
        "#Download and install ROMs\n",
        "!gdown -q http://www.atarimania.com/roms/Roms.rar\n",
        "!pip install -q unrar\n",
        "!mkdir ./roms_atari\n",
        "!unrar x Roms.rar ./roms_atari > /dev/null 2>&1\n",
        "!python -m atari_py.import_roms ./roms_atari > /dev/null 2>&1"
      ],
      "metadata": {
        "id": "6eYUUeiV4muE"
      },
      "execution_count": null,
      "outputs": []
    },
    {
      "cell_type": "code",
      "source": [
        "from stable_baselines.common.atari_wrappers import make_atari, wrap_deepmind\n",
        "import numpy as np\n",
        "import tensorflow as tf\n",
        "from tensorflow import keras\n",
        "from tensorflow.keras import layers\n",
        "import matplotlib.pyplot as plt\n",
        "from google.colab import drive\n",
        "import gym.wrappers\n",
        "# Creating a folder in Google Disk\n",
        "drive.mount('/content/gdrive', force_remount=True)"
      ],
      "metadata": {
        "id": "BtWMXjUlFp1o"
      },
      "execution_count": null,
      "outputs": []
    },
    {
      "cell_type": "markdown",
      "source": [
        "2. Examining the Breakout environment"
      ],
      "metadata": {
        "id": "5FDoHDPGPCpG"
      }
    },
    {
      "cell_type": "code",
      "source": [
        "# Observations (raw)\n",
        "env = make_atari(\"BreakoutNoFrameskip-v4\")\n",
        "obs = np.array(env.reset())\n",
        "print(obs.shape)\n",
        "plt.title(\"what the raw input looks like\")\n",
        "plt.imshow(obs)"
      ],
      "metadata": {
        "id": "MqHNNCeaPmDP"
      },
      "execution_count": null,
      "outputs": []
    },
    {
      "cell_type": "code",
      "source": [
        "# Obseravtions (wrapped)\n",
        "env = make_atari(\"BreakoutNoFrameskip-v4\")\n",
        "env = wrap_deepmind(env, frame_stack=True, scale=True)\n",
        "obs = np.array(env.reset())\n",
        "\n",
        "print(obs.shape)\n",
        "plt.title(\"agent observation (4 frames)\")\n",
        "plt.imshow(obs.transpose([0, 2, 1]).reshape([env.observation_space.shape[0], -1]))"
      ],
      "metadata": {
        "id": "kohvZO8P8ldk"
      },
      "execution_count": null,
      "outputs": []
    },
    {
      "cell_type": "code",
      "source": [
        "# Actions\n",
        "print(env.action_space)\n",
        "print(env.get_action_meanings())"
      ],
      "metadata": {
        "id": "DbjYWelB8vhx"
      },
      "execution_count": null,
      "outputs": []
    },
    {
      "cell_type": "code",
      "source": [
        "# Rewards\n",
        "env.reset()\n",
        "rewards = []\n",
        "while True:\n",
        "    obs, rew, done, info = env.step(env.action_space.sample())\n",
        "    rewards.append(rew)\n",
        "    if done:\n",
        "        break\n",
        "plt.plot(rewards)"
      ],
      "metadata": {
        "id": "Crfq4T7B83IY"
      },
      "execution_count": null,
      "outputs": []
    },
    {
      "cell_type": "markdown",
      "source": [
        "3. Creating a model - Deep convolutional neural network"
      ],
      "metadata": {
        "id": "1BNbFexBPDGO"
      }
    },
    {
      "cell_type": "code",
      "source": [
        "num_actions = 4\n",
        "def create_q_model():\n",
        "    # Network defined by the Deepmind paper\n",
        "    inputs = layers.Input(shape=(84, 84, 4,))\n",
        "\n",
        "    layer1 = layers.Conv2D(32, 8, strides=4, activation=\"relu\")(inputs)\n",
        "    layer2 = layers.Conv2D(64, 4, strides=2, activation=\"relu\")(layer1)\n",
        "    layer3 = layers.Conv2D(64, 3, strides=1, activation=\"relu\")(layer2)\n",
        "    layer4 = layers.Flatten()(layer3)\n",
        "    layer5 = layers.Dense(512, activation=\"relu\")(layer4)\n",
        "    action = layers.Dense(num_actions, activation=\"linear\")(layer5)\n",
        "\n",
        "    return keras.Model(inputs=inputs, outputs=action)\n",
        "\n",
        "# The first model makes the predictions for Q-values which are used to make a action.\n",
        "model = create_q_model()\n",
        "# Target model\n",
        "model_target = create_q_model()\n",
        "model.summary()"
      ],
      "metadata": {
        "id": "jcFKEpu2xHp7"
      },
      "execution_count": null,
      "outputs": []
    },
    {
      "cell_type": "markdown",
      "source": [
        "4. Configuring the hyperparamaters and model training"
      ],
      "metadata": {
        "id": "_SI_xm4EQYug"
      }
    },
    {
      "cell_type": "code",
      "source": [
        "gamma = 0.99  # Discount factor for past rewards\n",
        "\n",
        "# Setting epsilon decay parameters\n",
        "epsilon = 1.0  \n",
        "epsilon_max_1 = 1.0 \n",
        "epsilon_min_1 = 0.2  \n",
        "epsilon_max_2 = epsilon_min_1  \n",
        "epsilon_min_2 = 0.1\n",
        "epsilon_max_3 = epsilon_min_2  \n",
        "epsilon_min_3 = 0.02\n",
        "\n",
        "epsilon_interval_1 = (epsilon_max_1 - epsilon_min_1)  \n",
        "epsilon_interval_2 = (epsilon_max_2 - epsilon_min_2)  \n",
        "epsilon_interval_3 = (epsilon_max_3 - epsilon_min_3)  \n",
        "\n",
        "# Number of frames for exploration\n",
        "epsilon_greedy_frames = 1000000.0\n",
        "\n",
        "# Number of frames to take random action and observe output\n",
        "epsilon_random_frames = 50000\n",
        "\n",
        "# Maximum Replay Buffer volume\n",
        "max_memory_length = 190000\n",
        "\n",
        "# Size of batch taken from replay buffer\n",
        "batch_size = 32  \n",
        "max_steps_per_episode = 10000\n",
        "\n",
        "# Train the model after 20 actions\n",
        "update_after_actions = 20\n",
        "\n",
        "# How often to update the target network\n",
        "update_target_network = 10000\n",
        "\n",
        "# In the Deepmind paper they use RMSProp however then Adam optimizer improves training time\n",
        "optimizer = keras.optimizers.Adam(learning_rate=0.00025, clipnorm=1.0)\n",
        "\n",
        "# Using huber loss for stability\n",
        "loss_function = keras.losses.Huber()"
      ],
      "metadata": {
        "id": "ofDVINpNtSSg"
      },
      "execution_count": 41,
      "outputs": []
    },
    {
      "cell_type": "code",
      "source": [
        "# Experience replay buffers\n",
        "action_history = []\n",
        "state_history = []\n",
        "state_next_history = []\n",
        "rewards_history = []\n",
        "done_history = []\n",
        "\n",
        "episode_reward_history = []\n",
        "running_reward = 0\n",
        "episode_count = 0\n",
        "frame_count = 0\n",
        "\n",
        "while True:  # Run until solved\n",
        "    state = np.array(env.reset())\n",
        "    episode_reward = 0\n",
        "\n",
        "    for timestep in range(1, max_steps_per_episode):\n",
        "        \n",
        "        frame_count += 1\n",
        "\n",
        "        # Use epsilon-greedy for exploration\n",
        "        if frame_count < epsilon_random_frames or epsilon > np.random.rand(1)[0]:\n",
        "            # Take random action\n",
        "            action = np.random.choice(num_actions)\n",
        "        else:\n",
        "            # Predict action Q-values\n",
        "            # From environment state\n",
        "            state_tensor = tf.convert_to_tensor(state)\n",
        "            state_tensor = tf.expand_dims(state_tensor, 0)\n",
        "            action_probs = model(state_tensor, training=False)\n",
        "            # Take best action\n",
        "            action = tf.argmax(action_probs[0]).numpy()\n",
        "\n",
        "        # Decay probability of taking random action\n",
        "        if frame_count < epsilon_greedy_frames:\n",
        "          epsilon -= epsilon_interval_1 / epsilon_greedy_frames\n",
        "          epsilon = max(epsilon, epsilon_min_1)\n",
        "        \n",
        "        if frame_count > epsilon_greedy_frames and frame_count < 2 * epsilon_greedy_frames:\n",
        "          epsilon -= epsilon_interval_2 / epsilon_greedy_frames\n",
        "          epsilon = max(epsilon, epsilon_min_2)\n",
        "        \n",
        "        if frame_count > 2 * epsilon_greedy_frames:\n",
        "          epsilon -= epsilon_interval_3 / epsilon_greedy_frames\n",
        "          epsilon = max(epsilon, epsilon_min_3)\n",
        "          \n",
        "\n",
        "        # Apply the sampled action in our environment\n",
        "        state_next, reward, done, _ = env.step(action)\n",
        "        state_next = np.array(state_next)\n",
        "\n",
        "        episode_reward += reward\n",
        "\n",
        "        # Save actions and states in replay buffer\n",
        "        action_history.append(action)\n",
        "        state_history.append(state)\n",
        "        state_next_history.append(state_next)\n",
        "        done_history.append(done)\n",
        "        rewards_history.append(reward)\n",
        "        state = state_next\n",
        "\n",
        "        # Update every 20th frame and once batch size is over 32\n",
        "        if frame_count % update_after_actions == 0 and len(done_history) > batch_size:\n",
        "\n",
        "            # Get indices of samples for replay buffers\n",
        "            indices = np.random.choice(range(len(done_history)), size=batch_size)\n",
        "\n",
        "            # Using list comprehension to sample from replay buffer\n",
        "            state_sample = np.array([state_history[i] for i in indices])\n",
        "            state_next_sample = np.array([state_next_history[i] for i in indices])\n",
        "            rewards_sample = [rewards_history[i] for i in indices]\n",
        "            action_sample = [action_history[i] for i in indices]\n",
        "            done_sample = tf.convert_to_tensor(\n",
        "                [float(done_history[i]) for i in indices]\n",
        "            )\n",
        "\n",
        "            # Build the updated Q-values for the sampled future states\n",
        "            # Use the target model for stability\n",
        "            future_rewards = model_target.predict(state_next_sample)\n",
        "            # Q value = reward + discount factor * expected future reward\n",
        "            updated_q_values = rewards_sample + gamma * tf.reduce_max(\n",
        "                future_rewards, axis=1\n",
        "            )\n",
        "\n",
        "            # If final frame set the last value to -1\n",
        "            updated_q_values = updated_q_values * (1 - done_sample) - done_sample\n",
        "\n",
        "            # Create a mask so we only calculate loss on the updated Q-values\n",
        "            masks = tf.one_hot(action_sample, num_actions)\n",
        "\n",
        "            with tf.GradientTape() as tape:\n",
        "                # Train the model on the states and updated Q-values\n",
        "                q_values = model(state_sample)\n",
        "\n",
        "                # Apply the masks to the Q-values to get the Q-value for action taken\n",
        "                q_action = tf.reduce_sum(tf.multiply(q_values, masks), axis=1)\n",
        "                # Calculate loss between new Q-value and old Q-value\n",
        "                loss = loss_function(updated_q_values, q_action)\n",
        "\n",
        "            # Backpropagation\n",
        "            grads = tape.gradient(loss, model.trainable_variables)\n",
        "            optimizer.apply_gradients(zip(grads, model.trainable_variables))\n",
        "\n",
        "        if frame_count % update_target_network == 0:\n",
        "            # update the the target network with new weights\n",
        "            model_target.set_weights(model.get_weights())\n",
        "            # Log details\n",
        "            template = \"running reward: {:.2f} at episode {}, frame count {}, epsilon {:.3f}, loss {:.5f}\"\n",
        "            print(template.format(running_reward, episode_count, frame_count, epsilon, loss))\n",
        "\n",
        "        # Limit the state and reward history\n",
        "        if len(rewards_history) > max_memory_length:\n",
        "            del rewards_history[:1]\n",
        "            del state_history[:1]\n",
        "            del state_next_history[:1]\n",
        "            del action_history[:1]\n",
        "            del done_history[:1]\n",
        "\n",
        "        if done:\n",
        "            break\n",
        "\n",
        "    # Update running reward to check condition for solving\n",
        "    episode_reward_history.append(episode_reward)\n",
        "    if len(episode_reward_history) > 100:\n",
        "        del episode_reward_history[:1]\n",
        "    running_reward = np.mean(episode_reward_history)\n",
        "\n",
        "    episode_count += 1\n",
        "\n",
        "    if running_reward > 18:  # Condition to consider the task solved\n",
        "        print(\"Solved at episode {}!\".format(episode_count))\n",
        "        break"
      ],
      "metadata": {
        "id": "Lp8r0wRTtuzj"
      },
      "execution_count": null,
      "outputs": []
    },
    {
      "cell_type": "markdown",
      "source": [
        "5. Save and load the model"
      ],
      "metadata": {
        "id": "1YJLaqllQpeu"
      }
    },
    {
      "cell_type": "code",
      "source": [
        "# Saving the model\n",
        "#model_name = 'breakout_model_1'\n",
        "#path = F\"/content/gdrive/MyDrive/models/{model_name}\" \n",
        "#model.save(path)\n",
        "\n",
        "# Loading the model\n",
        "# model = tf.keras.models.load_model(path)\n",
        "\n",
        "model_name = 'breakout_alpha_progress_21.44'\n",
        "path = F\"/content/gdrive/MyDrive/{model_name}\" \n",
        "model = tf.keras.models.load_model(path)"
      ],
      "metadata": {
        "id": "lgWGkHa7CKnT"
      },
      "execution_count": null,
      "outputs": []
    },
    {
      "cell_type": "markdown",
      "source": [
        "6. Making videos of our agent play"
      ],
      "metadata": {
        "id": "PktIcDkQRLa_"
      }
    },
    {
      "cell_type": "code",
      "source": [
        "def make_env():\n",
        "  env = make_atari(\"BreakoutNoFrameskip-v4\")\n",
        "  env = wrap_deepmind(env, frame_stack=True, scale=True)\n",
        "  return env"
      ],
      "metadata": {
        "id": "eYKgdXeSZinA"
      },
      "execution_count": 47,
      "outputs": []
    },
    {
      "cell_type": "code",
      "source": [
        "env = make_env()\n",
        "env = gym.wrappers.Monitor(env, \"./vid1\", force=True)\n",
        "\n",
        "observation = env.reset()\n",
        "info = 0\n",
        "reward_window = []\n",
        "reward_signal_history = []\n",
        "epsilon_history = []\n",
        "\n",
        "hits = []\n",
        "bltd = 108 #total bricks to destroy\n",
        "\n",
        "for i_episode in range(1):\n",
        "    reward_window=[] \n",
        "    epsilon = 0  \n",
        "    for t in range(4000):\n",
        "        \n",
        "        if epsilon > np.random.rand(1)[0]:\n",
        "          action = np.random.choice(num_actions)\n",
        "        else:\n",
        "          state_tensor = tf.convert_to_tensor(observation)\n",
        "          state_tensor = tf.expand_dims(state_tensor, 0)\n",
        "          action_probs = model(state_tensor, training=False)\n",
        "          action = tf.argmax(action_probs[0]).numpy()\n",
        "        \n",
        "        observation, reward, done, info = env.step(action)\n",
        "        hits.append(reward)\n",
        "        reward_window.append(reward)\n",
        "        if len(reward_window) > 200:\n",
        "          del reward_window[:1] \n",
        "        if len(reward_window) == 200 and np.sum(reward_window) == 0:\n",
        "          epsilon = 0.01\n",
        "        else:\n",
        "          epsilon = 0.0001\n",
        "\n",
        "        epsilon_history.append(epsilon)\n",
        "        reward_signal_history.append(reward)\n",
        "\n",
        "        \n",
        "        if done:\n",
        "            print(\"Lost one life after {} timesteps\".format(t+1))\n",
        "            print(info)\n",
        "            # Plot epsilon and reward signal\n",
        "            fig,ax=plt.subplots(figsize=(20,3))\n",
        "            #plt.clf()\n",
        "            ax.plot(epsilon_history, color=\"red\")\n",
        "            ax.set_ylabel(\"epsilon\",color=\"red\",fontsize=14)\n",
        "            ax2=ax.twinx()\n",
        "            ax2.plot(reward_signal_history,color=\"blue\")\n",
        "            ax2.set_ylabel(\"reward_signal\",color=\"blue\",fontsize=14)\n",
        "            plt.show()\n",
        "\n",
        "            epsilon_history = []\n",
        "            reward_signal_history = []\n",
        "            \n",
        "            bltd = bltd-np.sum(hits)\n",
        "            hits = []\n",
        "            print(\"Bricks left to destroy \", bltd)\n",
        "            if info['ale.lives'] == 0:\n",
        "              break\n",
        "\n",
        "            env.reset()\n",
        "env.close()"
      ],
      "metadata": {
        "id": "JQeWGLBsZxCp"
      },
      "execution_count": null,
      "outputs": []
    }
  ]
}